{
 "cells": [
  {
   "cell_type": "code",
   "execution_count": 1,
   "metadata": {},
   "outputs": [],
   "source": [
    "import common\n",
    "from opencog.atomspace import AtomSpace, types\n",
    "from opencog.utilities import initialize_opencog\n",
    "from opencog.type_constructors import *"
   ]
  },
  {
   "cell_type": "markdown",
   "metadata": {},
   "source": [
    "Create a new AtomSpace."
   ]
  },
  {
   "cell_type": "code",
   "execution_count": 3,
   "metadata": {},
   "outputs": [],
   "source": [
    "atomspace = AtomSpace()"
   ]
  },
  {
   "cell_type": "markdown",
   "metadata": {},
   "source": [
    "Create an Atom -- a ConceptNode named \"cat\", and add it to the AtomSpace that we've just created."
   ]
  },
  {
   "cell_type": "code",
   "execution_count": 10,
   "metadata": {},
   "outputs": [
    {
     "data": {
      "text/plain": [
       "(ConceptNode \"cat\") ; [4498236217266852567][1]"
      ]
     },
     "execution_count": 10,
     "metadata": {},
     "output_type": "execute_result"
    }
   ],
   "source": [
    "atomspace.add_node(types.ConceptNode, \"cat\")"
   ]
  },
  {
   "cell_type": "markdown",
   "metadata": {},
   "source": [
    "An Atom, once created, is unique and immutable.\n",
    "Adding the exact same node one more than doesn't actually do anything."
   ]
  },
  {
   "cell_type": "code",
   "execution_count": 11,
   "metadata": {},
   "outputs": [
    {
     "data": {
      "text/plain": [
       "(ConceptNode \"cat\") ; [4498236217266852567][1]"
      ]
     },
     "execution_count": 11,
     "metadata": {},
     "output_type": "execute_result"
    }
   ],
   "source": [
    "atomspace.add_node(types.ConceptNode, \"cat\")"
   ]
  },
  {
   "cell_type": "markdown",
   "metadata": {},
   "source": [
    "Set the default AtomSpace. Now we can have a more intuitive way of creating Atoms."
   ]
  },
  {
   "cell_type": "code",
   "execution_count": 12,
   "metadata": {},
   "outputs": [],
   "source": [
    "initialize_opencog(atomspace)"
   ]
  },
  {
   "cell_type": "markdown",
   "metadata": {},
   "source": [
    "Create another ConceptNode in the same AtomSpace."
   ]
  },
  {
   "cell_type": "code",
   "execution_count": 14,
   "metadata": {},
   "outputs": [
    {
     "data": {
      "text/plain": [
       "(ConceptNode \"animal\") ; [4997559415121154116][1]"
      ]
     },
     "execution_count": 14,
     "metadata": {},
     "output_type": "execute_result"
    }
   ],
   "source": [
    "ConceptNode(\"animal\")"
   ]
  },
  {
   "cell_type": "markdown",
   "metadata": {},
   "source": [
    "Also create an InheritanceLink that links the two ConceptNodes."
   ]
  },
  {
   "cell_type": "code",
   "execution_count": 26,
   "metadata": {},
   "outputs": [
    {
     "data": {
      "text/plain": [
       "(InheritanceLink\n",
       "  (ConceptNode \"cat\") ; [4498236217266852567][1]\n",
       "  (ConceptNode \"animal\") ; [4997559415121154116][1]\n",
       ") ; [15139447884608120985][1]"
      ]
     },
     "execution_count": 26,
     "metadata": {},
     "output_type": "execute_result"
    }
   ],
   "source": [
    "InheritanceLink(ConceptNode(\"cat\"), ConceptNode(\"animal\"))"
   ]
  },
  {
   "cell_type": "markdown",
   "metadata": {},
   "source": [
    "You can get the incoming and outgoing (for links only) set of an Atom."
   ]
  },
  {
   "cell_type": "code",
   "execution_count": 34,
   "metadata": {},
   "outputs": [
    {
     "data": {
      "text/plain": [
       "(InheritanceLink\n",
       "  (ConceptNode \"dog\") ; [4865402829821503861][1]\n",
       "  (ConceptNode \"animal\") ; [4997559415121154116][1]\n",
       ") ; [11046677565644778848][1]"
      ]
     },
     "execution_count": 34,
     "metadata": {},
     "output_type": "execute_result"
    }
   ],
   "source": [
    "InheritanceLink(ConceptNode(\"dog\"), ConceptNode(\"animal\"))"
   ]
  },
  {
   "cell_type": "code",
   "execution_count": 35,
   "metadata": {},
   "outputs": [
    {
     "data": {
      "text/plain": [
       "[(InheritanceLink\n",
       "   (ConceptNode \"cat\") ; [4498236217266852567][1]\n",
       "   (ConceptNode \"animal\") ; [4997559415121154116][1]\n",
       " ) ; [15139447884608120985][1], (InheritanceLink\n",
       "   (ConceptNode \"dog\") ; [4865402829821503861][1]\n",
       "   (ConceptNode \"animal\") ; [4997559415121154116][1]\n",
       " ) ; [11046677565644778848][1]]"
      ]
     },
     "execution_count": 35,
     "metadata": {},
     "output_type": "execute_result"
    }
   ],
   "source": [
    "ConceptNode(\"animal\").incoming"
   ]
  },
  {
   "cell_type": "markdown",
   "metadata": {},
   "source": [
    "Every Atom has a default Truth Value."
   ]
  },
  {
   "cell_type": "code",
   "execution_count": 41,
   "metadata": {},
   "outputs": [
    {
     "name": "stdout",
     "output_type": "stream",
     "text": [
      "(stv 0.850000 0.900000)\n"
     ]
    }
   ],
   "source": [
    "print(ConceptNode(\"animal\").tv)"
   ]
  },
  {
   "cell_type": "markdown",
   "metadata": {},
   "source": [
    "You can change the Truth Value of an Atom."
   ]
  },
  {
   "cell_type": "code",
   "execution_count": 43,
   "metadata": {},
   "outputs": [
    {
     "name": "stdout",
     "output_type": "stream",
     "text": [
      "(stv 0.850000 0.900000)\n"
     ]
    }
   ],
   "source": [
    "ConceptNode(\"animal\").tv = TruthValue(0.85, 0.9)\n",
    "print(ConceptNode(\"animal\").tv)"
   ]
  }
 ],
 "metadata": {
  "kernelspec": {
   "display_name": "Python 3",
   "language": "python",
   "name": "python3"
  },
  "language_info": {
   "codemirror_mode": {
    "name": "ipython",
    "version": 3
   },
   "file_extension": ".py",
   "mimetype": "text/x-python",
   "name": "python",
   "nbconvert_exporter": "python",
   "pygments_lexer": "ipython3",
   "version": "3.5.6"
  }
 },
 "nbformat": 4,
 "nbformat_minor": 2
}
