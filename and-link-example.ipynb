{
 "cells": [
  {
   "cell_type": "markdown",
   "metadata": {},
   "source": [
    "## AndLink and EvaluationLink examples"
   ]
  },
  {
   "cell_type": "code",
   "execution_count": 17,
   "metadata": {},
   "outputs": [],
   "source": [
    "from opencog.utilities import initialize_opencog\n",
    "from opencog.atomspace import AtomSpace, types\n",
    "from opencog.type_constructors import *\n",
    "from opencog.bindlink import bindlink\n",
    "from opencog.bindlink import execute_atom"
   ]
  },
  {
   "cell_type": "markdown",
   "metadata": {},
   "source": [
    "create atomspace and set it as default"
   ]
  },
  {
   "cell_type": "code",
   "execution_count": 18,
   "metadata": {},
   "outputs": [],
   "source": [
    "atomspace = AtomSpace()\n",
    "initialize_opencog(atomspace)"
   ]
  },
  {
   "cell_type": "markdown",
   "metadata": {},
   "source": [
    "### knowledge base"
   ]
  },
  {
   "cell_type": "markdown",
   "metadata": {},
   "source": [
    "Color and size are attributes"
   ]
  },
  {
   "cell_type": "code",
   "execution_count": 19,
   "metadata": {},
   "outputs": [
    {
     "data": {
      "text/plain": [
       "(InheritanceLink\n",
       "  (ConceptNode \"color\") ; [4437725137865661335][6]\n",
       "  (ConceptNode \"attribute\") ; [8286119068776667766][6]\n",
       ") ; [15737919214045963885][6]"
      ]
     },
     "execution_count": 19,
     "metadata": {},
     "output_type": "execute_result"
    }
   ],
   "source": [
    "\n",
    "InheritanceLink(ConceptNode(\"size\"), ConceptNode(\"attribute\"))\n",
    "InheritanceLink(ConceptNode(\"color\"), ConceptNode(\"attribute\"))\n",
    "\n"
   ]
  },
  {
   "cell_type": "markdown",
   "metadata": {},
   "source": [
    "different types of color and size"
   ]
  },
  {
   "cell_type": "code",
   "execution_count": 20,
   "metadata": {},
   "outputs": [
    {
     "data": {
      "text/plain": [
       "(InheritanceLink\n",
       "  (ConceptNode \"black\") ; [3641150941895841241][6]\n",
       "  (ConceptNode \"color\") ; [4437725137865661335][6]\n",
       ") ; [17348854327767872816][6]"
      ]
     },
     "execution_count": 20,
     "metadata": {},
     "output_type": "execute_result"
    }
   ],
   "source": [
    "InheritanceLink(ConceptNode(\"small\"), ConceptNode(\"size\"))\n",
    "InheritanceLink(ConceptNode(\"big\"), ConceptNode(\"size\"))\n",
    "InheritanceLink(ConceptNode(\"green\"), ConceptNode(\"color\"))\n",
    "InheritanceLink(ConceptNode(\"red\"), ConceptNode(\"color\"))\n",
    "InheritanceLink(ConceptNode(\"black\"), ConceptNode(\"color\"))"
   ]
  },
  {
   "cell_type": "markdown",
   "metadata": {},
   "source": [
    "items which have some attributes defined"
   ]
  },
  {
   "cell_type": "code",
   "execution_count": 21,
   "metadata": {},
   "outputs": [],
   "source": [
    "InheritanceLink(ConceptNode(\"item-0\"), ConceptNode(\"small\")).tv = TruthValue(0.4, 0.9)\n",
    "InheritanceLink(ConceptNode(\"item-0\"), ConceptNode(\"green\")).tv = TruthValue(0.3, 0.9)\n",
    "InheritanceLink(ConceptNode(\"item-2\"), ConceptNode(\"big\")).tv = TruthValue(0.4, 0.9)\n",
    "InheritanceLink(ConceptNode(\"item-2\"), ConceptNode(\"red\")).tv = TruthValue(0.4, 0.9)\n",
    "InheritanceLink(ConceptNode(\"item-1\"), ConceptNode(\"red\")).tv = TruthValue(0.2, 0.9)\n",
    "InheritanceLink(ConceptNode(\"item-1\"), ConceptNode(\"small\")).tv = TruthValue(0.8, 0.9)\n",
    "InheritanceLink(ConceptNode(\"item-3\"), ConceptNode(\"black\")).tv = TruthValue(0.14, 0.9)\n",
    "InheritanceLink(ConceptNode(\"item-3\"), ConceptNode(\"small\")).tv = TruthValue(0.38, 0.9)"
   ]
  },
  {
   "cell_type": "markdown",
   "metadata": {},
   "source": [
    "all items are items"
   ]
  },
  {
   "cell_type": "code",
   "execution_count": 22,
   "metadata": {},
   "outputs": [
    {
     "data": {
      "text/plain": [
       "(InheritanceLink\n",
       "  (ConceptNode \"item-3\") ; [3557986846555413044][6]\n",
       "  (ConceptNode \"item\") ; [6497446589895348736][6]\n",
       ") ; [12252957330622942996][6]"
      ]
     },
     "execution_count": 22,
     "metadata": {},
     "output_type": "execute_result"
    }
   ],
   "source": [
    "InheritanceLink(ConceptNode(\"item-0\"), ConceptNode(\"item\"))\n",
    "InheritanceLink(ConceptNode(\"item-0\"), ConceptNode(\"item\"))\n",
    "InheritanceLink(ConceptNode(\"item-2\"), ConceptNode(\"item\"))\n",
    "InheritanceLink(ConceptNode(\"item-2\"), ConceptNode(\"item\"))\n",
    "InheritanceLink(ConceptNode(\"item-1\"), ConceptNode(\"item\"))\n",
    "InheritanceLink(ConceptNode(\"item-1\"), ConceptNode(\"item\"))\n",
    "InheritanceLink(ConceptNode(\"item-3\"), ConceptNode(\"item\"))\n",
    "InheritanceLink(ConceptNode(\"item-3\"), ConceptNode(\"item\"))"
   ]
  },
  {
   "cell_type": "markdown",
   "metadata": {},
   "source": [
    "let's select all items and attributes, filtering by some threshold\n"
   ]
  },
  {
   "cell_type": "markdown",
   "metadata": {},
   "source": [
    "first define function and EvaluationLink"
   ]
  },
  {
   "cell_type": "code",
   "execution_count": 23,
   "metadata": {},
   "outputs": [],
   "source": [
    "threshold = 0.3\n",
    "\n",
    "def apply_threshold(atom):\n",
    "    if atom.tv.mean < threshold:\n",
    "        return TruthValue(0, 1)\n",
    "    return TruthValue(1, 1)"
   ]
  },
  {
   "cell_type": "markdown",
   "metadata": {},
   "source": [
    "EvaluationLink will accept link    X <- Z  \n",
    "and return flag if it \"matches\""
   ]
  },
  {
   "cell_type": "code",
   "execution_count": 24,
   "metadata": {},
   "outputs": [],
   "source": [
    "inherits_property = InheritanceLink(VariableNode(\"X\"), VariableNode(\"Z\"))\n",
    "# all Variables(X and Z) used in EvaluationLink should be grounded somewhere else first!\n",
    "# eval link which provides filtering\n",
    "eval_threshold = EvaluationLink(\n",
    "                    GroundedPredicateNode(\"py: apply_threshold\"),\n",
    "                    ListLink(inherits_property))"
   ]
  },
  {
   "cell_type": "markdown",
   "metadata": {},
   "source": [
    "### now build the BindLink"
   ]
  },
  {
   "cell_type": "markdown",
   "metadata": {},
   "source": [
    "Constrain that Variable \"X\" inherits from \"item\""
   ]
  },
  {
   "cell_type": "code",
   "execution_count": 25,
   "metadata": {},
   "outputs": [],
   "source": [
    "select_items = InheritanceLink(VariableNode(\"X\"), ConceptNode(\"item\"))"
   ]
  },
  {
   "cell_type": "code",
   "execution_count": 26,
   "metadata": {},
   "outputs": [
    {
     "name": "stdout",
     "output_type": "stream",
     "text": [
      "(SetLink\n",
      "  (InheritanceLink (stv 0.400000 0.900000)\n",
      "    (ConceptNode \"item-0\")\n",
      "    (ConceptNode \"small\")\n",
      "  )\n",
      "  (InheritanceLink (stv 0.800000 0.900000)\n",
      "    (ConceptNode \"item-1\")\n",
      "    (ConceptNode \"small\")\n",
      "  )\n",
      "  (InheritanceLink (stv 0.300000 0.900000)\n",
      "    (ConceptNode \"item-0\")\n",
      "    (ConceptNode \"green\")\n",
      "  )\n",
      "  (InheritanceLink (stv 0.400000 0.900000)\n",
      "    (ConceptNode \"item-2\")\n",
      "    (ConceptNode \"red\")\n",
      "  )\n",
      "  (InheritanceLink (stv 0.380000 0.900000)\n",
      "    (ConceptNode \"item-3\")\n",
      "    (ConceptNode \"small\")\n",
      "  )\n",
      "  (InheritanceLink (stv 0.400000 0.900000)\n",
      "    (ConceptNode \"item-2\")\n",
      "    (ConceptNode \"big\")\n",
      "  )\n",
      ")\n",
      "\n"
     ]
    }
   ],
   "source": [
    "# using NotLink\n",
    "Z_is_not_item = NotLink(IdenticalLink(VariableNode(\"Z\"), ConceptNode(\"item\")))\n",
    "\n",
    "and_link = AndLink(eval_threshold, select_items, inherits_property, Z_is_not_item)\n",
    "bindlink_filter = BindLink(and_link,\n",
    "                           inherits_property)\n",
    "\n",
    "print(bindlink(atomspace, bindlink_filter))\n",
    "\n"
   ]
  },
  {
   "cell_type": "markdown",
   "metadata": {},
   "source": [
    "## Exercise: remove Z_is_not_item from condition"
   ]
  }
 ],
 "metadata": {
  "kernelspec": {
   "display_name": "Python 3",
   "language": "python",
   "name": "python3"
  },
  "language_info": {
   "codemirror_mode": {
    "name": "ipython",
    "version": 3
   },
   "file_extension": ".py",
   "mimetype": "text/x-python",
   "name": "python",
   "nbconvert_exporter": "python",
   "pygments_lexer": "ipython3",
   "version": "3.5.6"
  }
 },
 "nbformat": 4,
 "nbformat_minor": 2
}
