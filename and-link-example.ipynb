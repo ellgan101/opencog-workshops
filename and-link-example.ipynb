{
 "cells": [
  {
   "cell_type": "markdown",
   "metadata": {},
   "source": [
    "## AndLink and EvaluationLink examples"
   ]
  },
  {
   "cell_type": "code",
   "execution_count": 1,
   "metadata": {},
   "outputs": [],
   "source": [
    "import common\n",
    "from opencog.utilities import initialize_opencog\n",
    "from opencog.atomspace import AtomSpace, types\n",
    "from opencog.type_constructors import *\n",
    "from opencog.bindlink import execute_atom"
   ]
  },
  {
   "cell_type": "markdown",
   "metadata": {},
   "source": [
    "create atomspace and set it as default"
   ]
  },
  {
   "cell_type": "code",
   "execution_count": 2,
   "metadata": {},
   "outputs": [],
   "source": [
    "atomspace = AtomSpace()\n",
    "initialize_opencog(atomspace)"
   ]
  },
  {
   "cell_type": "markdown",
   "metadata": {},
   "source": [
    "### knowledge base"
   ]
  },
  {
   "cell_type": "markdown",
   "metadata": {},
   "source": [
    "Color and size are attributes.\n",
    "PredicateNode is used to define relations between different objects."
   ]
  },
  {
   "cell_type": "code",
   "execution_count": 3,
   "metadata": {},
   "outputs": [],
   "source": [
    "InheritanceLink(PredicateNode(\"size\"), ConceptNode(\"attribute\"))\n",
    "InheritanceLink(PredicateNode(\"color\"), ConceptNode(\"attribute\"))"
   ]
  },
  {
   "cell_type": "markdown",
   "metadata": {},
   "source": [
    "different types of color and size, InheritanceLink is similiar to verb \"is\" like it is used in natural languages. "
   ]
  },
  {
   "cell_type": "code",
   "execution_count": 4,
   "metadata": {},
   "outputs": [
    {
     "data": {
      "text/plain": [
       "(InheritanceLink\n",
       "  (PredicateNode \"black\") ; [3641749076221326293][1]\n",
       "  (ConceptNode \"color\") ; [4437742730051705013][1]\n",
       ") ; [17115093303551131577][1]"
      ]
     },
     "execution_count": 4,
     "metadata": {},
     "output_type": "execute_result"
    }
   ],
   "source": [
    "InheritanceLink(PredicateNode(\"small\"), ConceptNode(\"size\"))\n",
    "InheritanceLink(PredicateNode(\"big\"), ConceptNode(\"size\"))\n",
    "InheritanceLink(PredicateNode(\"green\"), ConceptNode(\"color\"))\n",
    "InheritanceLink(PredicateNode(\"red\"), ConceptNode(\"color\"))\n",
    "InheritanceLink(PredicateNode(\"black\"), ConceptNode(\"color\"))"
   ]
  },
  {
   "cell_type": "markdown",
   "metadata": {},
   "source": [
    "animals which have some attributes defined using EvaluationLink  \n",
    "EvaluationLink defines predicate for particular objects."
   ]
  },
  {
   "cell_type": "code",
   "execution_count": 5,
   "metadata": {},
   "outputs": [],
   "source": [
    "def assign_property(concept, relation, tv):\n",
    "    EvaluationLink(relation,\n",
    "                   concept).tv = tv\n",
    "\n",
    "assign_property(ConceptNode(\"frog\"), PredicateNode(\"small\"), TruthValue(0.8, 0.9))\n",
    "assign_property(ConceptNode(\"frog\"), PredicateNode(\"green\"), TruthValue(0.7, 0.9))\n",
    "assign_property(ConceptNode(\"tiger\"), PredicateNode(\"big\"), TruthValue(0.9, 0.9))\n",
    "assign_property(ConceptNode(\"tiger\"), PredicateNode(\"red\"), TruthValue(0.6, 0.9))\n",
    "assign_property(ConceptNode(\"sparrow\"), PredicateNode(\"red\"), TruthValue(0.1, 0.9))\n",
    "assign_property(ConceptNode(\"sparrow\"), PredicateNode(\"small\"), TruthValue(0.8, 0.9))\n",
    "assign_property(ConceptNode(\"zebra\"), PredicateNode(\"black\"), TruthValue(0.5, 0.9))\n",
    "assign_property(ConceptNode(\"zebra\"), PredicateNode(\"small\"), TruthValue(0.38, 0.9))"
   ]
  },
  {
   "cell_type": "markdown",
   "metadata": {},
   "source": [
    "Define that all animals are actually animals"
   ]
  },
  {
   "cell_type": "code",
   "execution_count": 6,
   "metadata": {},
   "outputs": [
    {
     "data": {
      "text/plain": [
       "(InheritanceLink\n",
       "  (ConceptNode \"zebra\") ; [1533366019804127650][1]\n",
       "  (ConceptNode \"animal\") ; [4997559415121154116][1]\n",
       ") ; [16824953705371388992][1]"
      ]
     },
     "execution_count": 6,
     "metadata": {},
     "output_type": "execute_result"
    }
   ],
   "source": [
    "InheritanceLink(ConceptNode(\"frog\"), ConceptNode(\"animal\"))\n",
    "InheritanceLink(ConceptNode(\"frog\"), ConceptNode(\"animal\"))\n",
    "InheritanceLink(ConceptNode(\"tiger\"), ConceptNode(\"animal\"))\n",
    "InheritanceLink(ConceptNode(\"tiger\"), ConceptNode(\"animal\"))\n",
    "InheritanceLink(ConceptNode(\"sparrow\"), ConceptNode(\"animal\"))\n",
    "InheritanceLink(ConceptNode(\"sparrow\"), ConceptNode(\"animal\"))\n",
    "InheritanceLink(ConceptNode(\"zebra\"), ConceptNode(\"animal\"))\n",
    "InheritanceLink(ConceptNode(\"zebra\"), ConceptNode(\"animal\"))"
   ]
  },
  {
   "cell_type": "markdown",
   "metadata": {},
   "source": [
    "**Query example**  \n",
    "let's select all animals and attributes, filtering by some threshold\n"
   ]
  },
  {
   "cell_type": "markdown",
   "metadata": {},
   "source": [
    "first define function and EvaluationLink"
   ]
  },
  {
   "cell_type": "code",
   "execution_count": 7,
   "metadata": {},
   "outputs": [],
   "source": [
    "threshold = 0.6\n",
    "\n",
    "def apply_threshold(atom):\n",
    "    if atom.tv.mean < threshold:\n",
    "        return TruthValue(0, 1)\n",
    "    return TruthValue(1, 1)"
   ]
  },
  {
   "cell_type": "markdown",
   "metadata": {},
   "source": [
    "Constrain Variable(\"X\") is animal"
   ]
  },
  {
   "cell_type": "code",
   "execution_count": 8,
   "metadata": {},
   "outputs": [],
   "source": [
    "is_animal = InheritanceLink(VariableNode(\"X\"), ConceptNode(\"animal\"))"
   ]
  },
  {
   "cell_type": "markdown",
   "metadata": {},
   "source": [
    "EvaluationLink will accept link    X <- \"animal\" \n",
    "and return flag if it \"matches\""
   ]
  },
  {
   "cell_type": "code",
   "execution_count": 9,
   "metadata": {},
   "outputs": [],
   "source": [
    "predicate = EvaluationLink(VariableNode(\"$B\"),\n",
    "                           VariableNode(\"X\"))\n",
    "\n",
    "eval_threshold = EvaluationLink(\n",
    "                    GroundedPredicateNode(\"py: apply_threshold\"),\n",
    "                    ListLink(predicate))"
   ]
  },
  {
   "cell_type": "markdown",
   "metadata": {},
   "source": [
    "first define pattern that will be grounded during the search"
   ]
  },
  {
   "cell_type": "code",
   "execution_count": 10,
   "metadata": {},
   "outputs": [],
   "source": [
    "and_link = AndLink(is_animal,\n",
    "                   EvaluationLink(VariableNode(\"$B\"),\n",
    "                                 VariableNode(\"X\")),\n",
    "                   eval_threshold\n",
    "                  )"
   ]
  },
  {
   "cell_type": "markdown",
   "metadata": {},
   "source": [
    "### now build the BindLink\n",
    "BindLink is constructed using pattern to ground and pattern to return,  \n",
    "pattern to return should be part of pattern to ground"
   ]
  },
  {
   "cell_type": "code",
   "execution_count": 11,
   "metadata": {},
   "outputs": [],
   "source": [
    "bindlink_filter = BindLink(and_link,\n",
    "                           predicate)"
   ]
  },
  {
   "cell_type": "markdown",
   "metadata": {},
   "source": [
    "execute query"
   ]
  },
  {
   "cell_type": "code",
   "execution_count": 12,
   "metadata": {},
   "outputs": [
    {
     "name": "stdout",
     "output_type": "stream",
     "text": [
      "(SetLink\n",
      "  (EvaluationLink (stv 0.900000 0.900000)\n",
      "    (PredicateNode \"big\")\n",
      "    (ConceptNode \"tiger\")\n",
      "  )\n",
      "  (EvaluationLink (stv 0.800000 0.900000)\n",
      "    (PredicateNode \"small\")\n",
      "    (ConceptNode \"sparrow\")\n",
      "  )\n",
      "  (EvaluationLink (stv 0.600000 0.900000)\n",
      "    (PredicateNode \"red\")\n",
      "    (ConceptNode \"tiger\")\n",
      "  )\n",
      "  (EvaluationLink (stv 0.700000 0.900000)\n",
      "    (PredicateNode \"green\")\n",
      "    (ConceptNode \"frog\")\n",
      "  )\n",
      "  (EvaluationLink (stv 0.800000 0.900000)\n",
      "    (PredicateNode \"small\")\n",
      "    (ConceptNode \"frog\")\n",
      "  )\n",
      ")\n",
      "\n"
     ]
    }
   ],
   "source": [
    "print(execute_atom(atomspace, bindlink_filter))"
   ]
  },
  {
   "cell_type": "markdown",
   "metadata": {},
   "source": [
    "## Exercise: use atom.tv.confidence\n",
    "\n",
    "in threshold function"
   ]
  }
 ],
 "metadata": {
  "kernelspec": {
   "display_name": "Python 3",
   "language": "python",
   "name": "python3"
  },
  "language_info": {
   "codemirror_mode": {
    "name": "ipython",
    "version": 3
   },
   "file_extension": ".py",
   "mimetype": "text/x-python",
   "name": "python",
   "nbconvert_exporter": "python",
   "pygments_lexer": "ipython3",
   "version": "3.5.6"
  }
 },
 "nbformat": 4,
 "nbformat_minor": 2
}
