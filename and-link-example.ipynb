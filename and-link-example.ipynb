{
 "cells": [
  {
   "cell_type": "markdown",
   "metadata": {},
   "source": [
    "## AndLink and EvaluationLink examples"
   ]
  },
  {
   "cell_type": "code",
   "execution_count": 1,
   "metadata": {},
   "outputs": [
    {
     "name": "stderr",
     "output_type": "stream",
     "text": [
      "/home/noskill/miniconda3/envs/pmvqa3/lib/python3.5/importlib/_bootstrap.py:222: RuntimeWarning: compiletime version 3.6 of module 'opencog.utilities' does not match runtime version 3.5\n",
      "  return f(*args, **kwds)\n",
      "/home/noskill/miniconda3/envs/pmvqa3/lib/python3.5/importlib/_bootstrap.py:222: RuntimeWarning: compiletime version 3.6 of module 'opencog.atomspace' does not match runtime version 3.5\n",
      "  return f(*args, **kwds)\n",
      "/home/noskill/miniconda3/envs/pmvqa3/lib/python3.5/importlib/_bootstrap.py:222: RuntimeWarning: compiletime version 3.6 of module 'opencog.type_constructors' does not match runtime version 3.5\n",
      "  return f(*args, **kwds)\n",
      "/home/noskill/miniconda3/envs/pmvqa3/lib/python3.5/importlib/_bootstrap.py:222: RuntimeWarning: compiletime version 3.6 of module 'opencog.bindlink' does not match runtime version 3.5\n",
      "  return f(*args, **kwds)\n"
     ]
    }
   ],
   "source": [
    "from opencog.utilities import initialize_opencog\n",
    "from opencog.atomspace import AtomSpace, types\n",
    "from opencog.type_constructors import *\n",
    "from opencog.bindlink import bindlink\n",
    "from opencog.bindlink import execute_atom"
   ]
  },
  {
   "cell_type": "markdown",
   "metadata": {},
   "source": [
    "create atomspace and set it as default"
   ]
  },
  {
   "cell_type": "code",
   "execution_count": 2,
   "metadata": {},
   "outputs": [],
   "source": [
    "atomspace = AtomSpace()\n",
    "initialize_opencog(atomspace)"
   ]
  },
  {
   "cell_type": "markdown",
   "metadata": {},
   "source": [
    "### knowledge base"
   ]
  },
  {
   "cell_type": "markdown",
   "metadata": {},
   "source": [
    "Color and size are attributes"
   ]
  },
  {
   "cell_type": "code",
   "execution_count": 3,
   "metadata": {},
   "outputs": [
    {
     "data": {
      "text/plain": [
       "(InheritanceLink\n",
       "  (ConceptNode \"color\") ; [4437725137865661335][1]\n",
       "  (ConceptNode \"attribute\") ; [8286119068776667766][1]\n",
       ") ; [15737919214045963885][1]"
      ]
     },
     "execution_count": 3,
     "metadata": {},
     "output_type": "execute_result"
    }
   ],
   "source": [
    "InheritanceLink(ConceptNode(\"size\"), ConceptNode(\"attribute\"))\n",
    "InheritanceLink(ConceptNode(\"color\"), ConceptNode(\"attribute\"))"
   ]
  },
  {
   "cell_type": "markdown",
   "metadata": {},
   "source": [
    "different types of color and size"
   ]
  },
  {
   "cell_type": "code",
   "execution_count": 4,
   "metadata": {},
   "outputs": [
    {
     "data": {
      "text/plain": [
       "(InheritanceLink\n",
       "  (ConceptNode \"black\") ; [3641150941895841241][1]\n",
       "  (ConceptNode \"color\") ; [4437725137865661335][1]\n",
       ") ; [17348854327767872816][1]"
      ]
     },
     "execution_count": 4,
     "metadata": {},
     "output_type": "execute_result"
    }
   ],
   "source": [
    "InheritanceLink(ConceptNode(\"small\"), ConceptNode(\"size\"))\n",
    "InheritanceLink(ConceptNode(\"big\"), ConceptNode(\"size\"))\n",
    "InheritanceLink(ConceptNode(\"green\"), ConceptNode(\"color\"))\n",
    "InheritanceLink(ConceptNode(\"red\"), ConceptNode(\"color\"))\n",
    "InheritanceLink(ConceptNode(\"black\"), ConceptNode(\"color\"))"
   ]
  },
  {
   "cell_type": "markdown",
   "metadata": {},
   "source": [
    "animals which have some attributes defined"
   ]
  },
  {
   "cell_type": "code",
   "execution_count": 5,
   "metadata": {},
   "outputs": [],
   "source": [
    "InheritanceLink(ConceptNode(\"frog\"), ConceptNode(\"small\")).tv = TruthValue(0.8, 0.9)\n",
    "InheritanceLink(ConceptNode(\"frog\"), ConceptNode(\"green\")).tv = TruthValue(0.7, 0.9)\n",
    "InheritanceLink(ConceptNode(\"tiger\"), ConceptNode(\"big\")).tv = TruthValue(0.9, 0.9)\n",
    "InheritanceLink(ConceptNode(\"tiger\"), ConceptNode(\"red\")).tv = TruthValue(0.6, 0.9)\n",
    "InheritanceLink(ConceptNode(\"sparrow\"), ConceptNode(\"red\")).tv = TruthValue(0.1, 0.9)\n",
    "InheritanceLink(ConceptNode(\"sparrow\"), ConceptNode(\"small\")).tv = TruthValue(0.8, 0.9)\n",
    "InheritanceLink(ConceptNode(\"zebra\"), ConceptNode(\"black\")).tv = TruthValue(0.5, 0.9)\n",
    "InheritanceLink(ConceptNode(\"zebra\"), ConceptNode(\"small\")).tv = TruthValue(0.38, 0.9)"
   ]
  },
  {
   "cell_type": "markdown",
   "metadata": {},
   "source": [
    "all items are items"
   ]
  },
  {
   "cell_type": "code",
   "execution_count": 6,
   "metadata": {},
   "outputs": [
    {
     "data": {
      "text/plain": [
       "(InheritanceLink\n",
       "  (ConceptNode \"zebra\") ; [1533348427618083972][1]\n",
       "  (ConceptNode \"animal\") ; [4997541822935110438][1]\n",
       ") ; [12181097095668208330][1]"
      ]
     },
     "execution_count": 6,
     "metadata": {},
     "output_type": "execute_result"
    }
   ],
   "source": [
    "InheritanceLink(ConceptNode(\"frog\"), ConceptNode(\"animal\"))\n",
    "InheritanceLink(ConceptNode(\"frog\"), ConceptNode(\"animal\"))\n",
    "InheritanceLink(ConceptNode(\"tiger\"), ConceptNode(\"animal\"))\n",
    "InheritanceLink(ConceptNode(\"tiger\"), ConceptNode(\"animal\"))\n",
    "InheritanceLink(ConceptNode(\"sparrow\"), ConceptNode(\"animal\"))\n",
    "InheritanceLink(ConceptNode(\"sparrow\"), ConceptNode(\"animal\"))\n",
    "InheritanceLink(ConceptNode(\"zebra\"), ConceptNode(\"animal\"))\n",
    "InheritanceLink(ConceptNode(\"zebra\"), ConceptNode(\"animal\"))"
   ]
  },
  {
   "cell_type": "markdown",
   "metadata": {},
   "source": [
    "let's select all animals and attributes, filtering by some threshold\n"
   ]
  },
  {
   "cell_type": "markdown",
   "metadata": {},
   "source": [
    "first define function and EvaluationLink"
   ]
  },
  {
   "cell_type": "code",
   "execution_count": 21,
   "metadata": {},
   "outputs": [],
   "source": [
    "threshold = 0.6\n",
    "\n",
    "def apply_threshold(atom):\n",
    "    if atom.tv.mean < threshold:\n",
    "        return TruthValue(0, 1)\n",
    "    return TruthValue(1, 1)"
   ]
  },
  {
   "cell_type": "markdown",
   "metadata": {},
   "source": [
    "EvaluationLink will accept link    X <- Z  \n",
    "and return flag if it \"matches\""
   ]
  },
  {
   "cell_type": "code",
   "execution_count": 22,
   "metadata": {},
   "outputs": [],
   "source": [
    "inherits_property = InheritanceLink(VariableNode(\"X\"), VariableNode(\"Z\"))\n",
    "\n",
    "# all Variables(X and Z) used in EvaluationLink should be grounded somewhere else first!\n",
    "# eval link which provides filtering\n",
    "eval_threshold = EvaluationLink(\n",
    "                    GroundedPredicateNode(\"py: apply_threshold\"),\n",
    "                    ListLink(inherits_property))"
   ]
  },
  {
   "cell_type": "markdown",
   "metadata": {},
   "source": [
    "### now build the BindLink"
   ]
  },
  {
   "cell_type": "markdown",
   "metadata": {},
   "source": [
    "Constrain that Variable \"X\" inherits from \"item\""
   ]
  },
  {
   "cell_type": "code",
   "execution_count": 23,
   "metadata": {},
   "outputs": [],
   "source": [
    "select_items = InheritanceLink(VariableNode(\"X\"), ConceptNode(\"animal\"))"
   ]
  },
  {
   "cell_type": "code",
   "execution_count": 24,
   "metadata": {},
   "outputs": [],
   "source": [
    "# using NotLink\n",
    "Z_is_not_item = NotLink(IdenticalLink(VariableNode(\"Z\"), ConceptNode(\"animal\")))"
   ]
  },
  {
   "cell_type": "code",
   "execution_count": 25,
   "metadata": {},
   "outputs": [
    {
     "name": "stdout",
     "output_type": "stream",
     "text": [
      "(SetLink\n",
      "  (InheritanceLink (stv 0.800000 0.900000)\n",
      "    (ConceptNode \"frog\")\n",
      "    (ConceptNode \"small\")\n",
      "  )\n",
      "  (InheritanceLink (stv 0.600000 0.900000)\n",
      "    (ConceptNode \"tiger\")\n",
      "    (ConceptNode \"red\")\n",
      "  )\n",
      "  (InheritanceLink (stv 0.700000 0.900000)\n",
      "    (ConceptNode \"frog\")\n",
      "    (ConceptNode \"green\")\n",
      "  )\n",
      "  (InheritanceLink (stv 0.900000 0.900000)\n",
      "    (ConceptNode \"tiger\")\n",
      "    (ConceptNode \"big\")\n",
      "  )\n",
      "  (InheritanceLink (stv 0.800000 0.900000)\n",
      "    (ConceptNode \"sparrow\")\n",
      "    (ConceptNode \"small\")\n",
      "  )\n",
      ")\n",
      "\n"
     ]
    }
   ],
   "source": [
    "and_link = AndLink(eval_threshold, inherits_property, Z_is_not_item, select_items)\n",
    "bindlink_filter = BindLink(and_link,\n",
    "                           inherits_property)\n",
    "\n",
    "\n",
    "print(bindlink(atomspace, bindlink_filter))"
   ]
  },
  {
   "cell_type": "code",
   "execution_count": null,
   "metadata": {},
   "outputs": [],
   "source": []
  },
  {
   "cell_type": "markdown",
   "metadata": {},
   "source": [
    "## Exercise: remove Z_is_not_item from condition"
   ]
  }
 ],
 "metadata": {
  "kernelspec": {
   "display_name": "Python 3",
   "language": "python",
   "name": "python3"
  },
  "language_info": {
   "codemirror_mode": {
    "name": "ipython",
    "version": 3
   },
   "file_extension": ".py",
   "mimetype": "text/x-python",
   "name": "python",
   "nbconvert_exporter": "python",
   "pygments_lexer": "ipython3",
   "version": "3.5.6"
  }
 },
 "nbformat": 4,
 "nbformat_minor": 2
}
