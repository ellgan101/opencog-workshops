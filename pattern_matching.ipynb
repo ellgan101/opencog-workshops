{
 "cells": [
  {
   "cell_type": "markdown",
   "metadata": {},
   "source": [
    "The <b>Pattern Matcher</b> in OpenCog is commonly used as a tool to search the AtomSpace for specific patterns or \"templates\" of Atoms.\n",
    "\n",
    "It can also be considered as a form of fill-in-the-blanks operation.\n",
    "\n",
    "Given a template pattern, with \"blanks\" in it, a search is performed for all graphs that match, and can \"fill in\" those \"blanks\".\n",
    "\n",
    "Each \"blank\" is called a \"variable\", and each (sub-)graph that can \"fit\" into that \"blank\" is called a \"grounding\".\n",
    "\n",
    "The pattern matcher finds groundings for variables."
   ]
  },
  {
   "cell_type": "code",
   "execution_count": 6,
   "metadata": {},
   "outputs": [],
   "source": [
    "import common\n",
    "from opencog.atomspace import AtomSpace, types\n",
    "from opencog.bindlink import execute_atom\n",
    "from opencog.type_constructors import *\n",
    "from opencog.utilities import initialize_opencog\n",
    "\n",
    "atomspace = AtomSpace()\n",
    "initialize_opencog(atomspace)"
   ]
  },
  {
   "cell_type": "markdown",
   "metadata": {},
   "source": [
    "Let's populate the AtomSpace with some knowledge:"
   ]
  },
  {
   "cell_type": "code",
   "execution_count": 9,
   "metadata": {},
   "outputs": [
    {
     "data": {
      "text/plain": [
       "(InheritanceLink\n",
       "  (ConceptNode \"banana\") ; [574648249734392479][1]\n",
       "  (ConceptNode \"fruit\") ; [4059050663830746403][1]\n",
       ") ; [16595301519335773200][1]"
      ]
     },
     "execution_count": 9,
     "metadata": {},
     "output_type": "execute_result"
    }
   ],
   "source": [
    "# Animals\n",
    "InheritanceLink(ConceptNode(\"cat\"), ConceptNode(\"animal\"))\n",
    "InheritanceLink(ConceptNode(\"dog\"), ConceptNode(\"animal\"))\n",
    "InheritanceLink(ConceptNode(\"rat\"), ConceptNode(\"animal\"))\n",
    "InheritanceLink(ConceptNode(\"fish\"), ConceptNode(\"animal\"))\n",
    "\n",
    "# Colors\n",
    "InheritanceLink(ConceptNode(\"red\"), ConceptNode(\"color\"))\n",
    "InheritanceLink(ConceptNode(\"green\"), ConceptNode(\"color\"))\n",
    "InheritanceLink(ConceptNode(\"blue\"), ConceptNode(\"color\"))\n",
    "InheritanceLink(ConceptNode(\"orange\"), ConceptNode(\"color\"))\n",
    "\n",
    "# Fruits\n",
    "InheritanceLink(ConceptNode(\"apple\"), ConceptNode(\"fruit\"))\n",
    "InheritanceLink(ConceptNode(\"orange\"), ConceptNode(\"fruit\"))\n",
    "InheritanceLink(ConceptNode(\"kiwi\"), ConceptNode(\"fruit\"))\n",
    "InheritanceLink(ConceptNode(\"banana\"), ConceptNode(\"fruit\"))"
   ]
  },
  {
   "cell_type": "markdown",
   "metadata": {},
   "source": [
    "<b>BindLink</b> provides an easy-to-use, convenient API to the pattern matcher in OpenCog, and it has the following structure:\n",
    "\n",
    "```\n",
    "BindLink\n",
    "  variable-declarations (optional)\n",
    "  pattern-to-be-matched\n",
    "  instantiated-pattern\n",
    "```\n",
    "\n",
    "Now, let's say we want to find all of the animals in the AtomSpace, how can we use <b>BindLink</b> for that?"
   ]
  },
  {
   "cell_type": "markdown",
   "metadata": {},
   "source": [
    "Let's start with the variable first:"
   ]
  },
  {
   "cell_type": "code",
   "execution_count": 17,
   "metadata": {},
   "outputs": [
    {
     "name": "stdout",
     "output_type": "stream",
     "text": [
      "(TypedVariableLink\n",
      "  (VariableNode \"$x\")\n",
      "  (TypeNode \"ConceptNode\")\n",
      ")\n",
      "\n"
     ]
    }
   ],
   "source": [
    "var_x = VariableNode(\"$x\")\n",
    "var_decl = TypedVariableLink(var_x, TypeNode(\"ConceptNode\"))\n",
    "print(var_decl)"
   ]
  },
  {
   "cell_type": "markdown",
   "metadata": {},
   "source": [
    "Then the pattern:"
   ]
  },
  {
   "cell_type": "code",
   "execution_count": 18,
   "metadata": {},
   "outputs": [
    {
     "name": "stdout",
     "output_type": "stream",
     "text": [
      "(InheritanceLink\n",
      "  (VariableNode \"$x\")\n",
      "  (ConceptNode \"animal\")\n",
      ")\n",
      "\n"
     ]
    }
   ],
   "source": [
    "pattern = InheritanceLink(var_x, ConceptNode(\"animal\"))\n",
    "print(pattern)"
   ]
  },
  {
   "cell_type": "markdown",
   "metadata": {},
   "source": [
    "Finally, putting things all together:"
   ]
  },
  {
   "cell_type": "code",
   "execution_count": 16,
   "metadata": {},
   "outputs": [
    {
     "name": "stdout",
     "output_type": "stream",
     "text": [
      "(BindLink\n",
      "  (TypedVariableLink\n",
      "    (VariableNode \"$x\")\n",
      "    (TypeNode \"ConceptNode\")\n",
      "  )\n",
      "  (InheritanceLink\n",
      "    (VariableNode \"$x\")\n",
      "    (ConceptNode \"animal\")\n",
      "  )\n",
      "  (VariableNode \"$x\")\n",
      ")\n",
      "\n"
     ]
    }
   ],
   "source": [
    "bindlink = BindLink(var_decl, pattern, var_x)\n",
    "print(bindlink)"
   ]
  },
  {
   "cell_type": "code",
   "execution_count": 23,
   "metadata": {},
   "outputs": [
    {
     "name": "stdout",
     "output_type": "stream",
     "text": [
      "(SetLink\n",
      "  (ConceptNode \"rat\")\n",
      "  (ConceptNode \"cat\")\n",
      "  (ConceptNode \"dog\")\n",
      "  (ConceptNode \"fish\")\n",
      ")\n",
      "\n"
     ]
    }
   ],
   "source": [
    "result = execute_atom(atomspace, bindlink)\n",
    "print(result)"
   ]
  },
  {
   "cell_type": "markdown",
   "metadata": {},
   "source": [
    "Moving forward, let's say we want to see if there is any concept that inherits from both <b>color</b> and <b>fruit</b>, how do we do that?"
   ]
  },
  {
   "cell_type": "markdown",
   "metadata": {},
   "source": [
    "For the variable, we can just reuse `var_x`, no changes is needed for that.\n",
    "\n",
    "For the pattern, let's define each of the clauses:"
   ]
  },
  {
   "cell_type": "code",
   "execution_count": 24,
   "metadata": {},
   "outputs": [],
   "source": [
    "clause_1 = InheritanceLink(var_x, ConceptNode(\"color\"))\n",
    "clause_2 = InheritanceLink(var_x, ConceptNode(\"fruit\"))"
   ]
  },
  {
   "cell_type": "markdown",
   "metadata": {},
   "source": [
    "Since we now have two clauses, an <b>AndLink</b> is needed to wrap them up:"
   ]
  },
  {
   "cell_type": "code",
   "execution_count": 26,
   "metadata": {},
   "outputs": [
    {
     "name": "stdout",
     "output_type": "stream",
     "text": [
      "(AndLink\n",
      "  (InheritanceLink\n",
      "    (VariableNode \"$x\")\n",
      "    (ConceptNode \"fruit\")\n",
      "  )\n",
      "  (InheritanceLink\n",
      "    (VariableNode \"$x\")\n",
      "    (ConceptNode \"color\")\n",
      "  )\n",
      ")\n",
      "\n"
     ]
    }
   ],
   "source": [
    "pattern = AndLink(clause_1, clause_2)\n",
    "print(pattern)"
   ]
  },
  {
   "cell_type": "markdown",
   "metadata": {},
   "source": [
    "Put them into a <b>BindLink</b>:"
   ]
  },
  {
   "cell_type": "code",
   "execution_count": 28,
   "metadata": {},
   "outputs": [
    {
     "name": "stdout",
     "output_type": "stream",
     "text": [
      "(BindLink\n",
      "  (TypedVariableLink\n",
      "    (VariableNode \"$x\")\n",
      "    (TypeNode \"ConceptNode\")\n",
      "  )\n",
      "  (AndLink\n",
      "    (InheritanceLink\n",
      "      (VariableNode \"$x\")\n",
      "      (ConceptNode \"fruit\")\n",
      "    )\n",
      "    (InheritanceLink\n",
      "      (VariableNode \"$x\")\n",
      "      (ConceptNode \"color\")\n",
      "    )\n",
      "  )\n",
      "  (VariableNode \"$x\")\n",
      ")\n",
      "\n"
     ]
    }
   ],
   "source": [
    "bindlink = BindLink(var_decl, pattern, var_x)\n",
    "print(bindlink)"
   ]
  },
  {
   "cell_type": "markdown",
   "metadata": {},
   "source": [
    "And search for the result:"
   ]
  },
  {
   "cell_type": "code",
   "execution_count": 29,
   "metadata": {},
   "outputs": [
    {
     "name": "stdout",
     "output_type": "stream",
     "text": [
      "(SetLink\n",
      "  (ConceptNode \"orange\")\n",
      ")\n",
      "\n"
     ]
    }
   ],
   "source": [
    "result = execute_atom(atomspace, bindlink)\n",
    "print(result)"
   ]
  },
  {
   "cell_type": "code",
   "execution_count": null,
   "metadata": {},
   "outputs": [],
   "source": []
  }
 ],
 "metadata": {
  "kernelspec": {
   "display_name": "Python 3",
   "language": "python",
   "name": "python3"
  },
  "language_info": {
   "codemirror_mode": {
    "name": "ipython",
    "version": 3
   },
   "file_extension": ".py",
   "mimetype": "text/x-python",
   "name": "python",
   "nbconvert_exporter": "python",
   "pygments_lexer": "ipython3",
   "version": "3.5.6"
  }
 },
 "nbformat": 4,
 "nbformat_minor": 2
}
