{
 "cells": [
  {
   "cell_type": "markdown",
   "metadata": {},
   "source": [
    "<h1>URE</h1>\n",
    "\n",
    "The unified rule engine (URE) is a generic opencog rule engine operating on the AtomSpace. Two chaining modes are currently supported, Forward Chaining and Backward Chaining.\n",
    "\n",
    "In this tutorial, we are going to have a quick look at how we can do both forward and backward chaining."
   ]
  },
  {
   "cell_type": "code",
   "execution_count": null,
   "metadata": {},
   "outputs": [],
   "source": [
    "(use-modules\n",
    "  (opencog)\n",
    "  (opencog query)\n",
    "  (opencog rule-engine))"
   ]
  },
  {
   "cell_type": "markdown",
   "metadata": {},
   "source": [
    "Now let's create the knowledge base, characterising frogs and spiders."
   ]
  },
  {
   "cell_type": "code",
   "execution_count": null,
   "metadata": {},
   "outputs": [],
   "source": [
    "; Frog croaks\n",
    "(Evaluation (stv 1.0 1.0)\n",
    "   (Predicate \"croaks\") (Concept \"frog\"))\n",
    "\n",
    "; Spider bites\n",
    "(Evaluation (stv 1.0 1.0)\n",
    "   (Predicate \"bites\") (Concept \"spider\"))\n",
    "\n",
    "; Frog is green\n",
    "(Inheritance (stv 1.0 1.0)\n",
    "   (Concept \"frog\") (Concept \"green\"))\n",
    "\n",
    "; Spider is brown\n",
    "(Inheritance (stv 1.0 1.0)\n",
    "   (Concept \"spider\") (Concept \"brown\"))\n",
    "\n",
    "; Frog eats files\n",
    "(Evaluation (stv 1.0 1.0)\n",
    "   (Predicate \"eats_flies\") (Concept \"frog\"))\n",
    "\n",
    "; Spider eats files\n",
    "(Evaluation (stv 1.0 1.0)\n",
    "   (Predicate \"eats_flies\") (Concept \"spider\"))"
   ]
  },
  {
   "cell_type": "markdown",
   "metadata": {},
   "source": [
    "Next, let's create the inference rules. There are rules that are ready to use in URE, but to make it clearer for demostration purpose, let's simplified the process and create the our own rules for this tutorial:"
   ]
  },
  {
   "cell_type": "code",
   "execution_count": null,
   "metadata": {},
   "outputs": [],
   "source": [
    "(define if-croaks-and-eats-flies-then-frog-rule\n",
    "  (BindLink\n",
    "    (Variable \"$X\")\n",
    "    (And\n",
    "      (Evaluation\n",
    "        (Predicate \"croaks\")\n",
    "        (Variable \"$X\"))\n",
    "      (Evaluation\n",
    "        (Predicate \"eats_flies\")\n",
    "        (Variable \"$X\")))\n",
    "    (Inheritance\n",
    "      (Variable \"$X\")\n",
    "      (Concept \"frog\")))\n",
    ")\n",
    "\n",
    "(define if-croaks-and-eats-flies-then-frog-rule-name (DefinedSchema \"if-croaks-and-eats-flies-then-frog-rule\"))\n",
    "(Define if-croaks-and-eats-flies-then-frog-rule-name if-croaks-and-eats-flies-then-frog-rule)\n",
    "\n",
    "(define if-frog-then-green-rule\n",
    "  (Bind\n",
    "    (Variable \"$X\")\n",
    "    (Inheritance\n",
    "      (Variable \"$X\")\n",
    "      (Concept \"frog\"))\n",
    "    (Inheritance\n",
    "      (Variable \"$X\")\n",
    "      (Concept \"green\")))\n",
    ")\n",
    "\n",
    "(define if-frog-then-green-rule-name (DefinedSchema \"if-frog-then-green-rule\"))\n",
    "(Define if-frog-then-green-rule-name if-frog-then-green-rule)"
   ]
  },
  {
   "cell_type": "markdown",
   "metadata": {},
   "source": [
    "And then create our own rule base and add those rules to it:"
   ]
  },
  {
   "cell_type": "code",
   "execution_count": null,
   "metadata": {},
   "outputs": [],
   "source": [
    "(define frog-rb (Concept \"frog-rb\"))\n",
    "\n",
    "(ure-add-rules frog-rb\n",
    "  (list\n",
    "    (cons if-croaks-and-eats-flies-then-frog-rule-name (stv 0.9 1))\n",
    "    (cons if-frog-then-green-rule-name (stv 0.5 1))))\n",
    "\n",
    "(ure-set-maximum-iterations frog-rb 20)"
   ]
  },
  {
   "cell_type": "markdown",
   "metadata": {},
   "source": [
    "We also need to specifiy the source for forward chaining, to see what we can infer from it based on the knowledge we have."
   ]
  },
  {
   "cell_type": "code",
   "execution_count": null,
   "metadata": {},
   "outputs": [],
   "source": [
    "(define source\n",
    "  (Evaluation (stv 1.0 1.0)\n",
    "     (Predicate \"croaks\")\n",
    "     (Concept \"frog\")))"
   ]
  },
  {
   "cell_type": "markdown",
   "metadata": {},
   "source": [
    "Finally do forward chaining using `cog-fc`:"
   ]
  },
  {
   "cell_type": "code",
   "execution_count": null,
   "metadata": {},
   "outputs": [],
   "source": [
    "(cog-fc frog-rb source)"
   ]
  },
  {
   "cell_type": "markdown",
   "metadata": {},
   "source": [
    "We can do backward chaining in a similar manner, but this time, instead of starting from a source, we start from the target -- what we want to find out.\n",
    "\n",
    "So let's define the target, see what is green in color:"
   ]
  },
  {
   "cell_type": "code",
   "execution_count": null,
   "metadata": {},
   "outputs": [],
   "source": [
    "(define target (Inheritance (Variable \"$what\") (Concept \"green\")))"
   ]
  },
  {
   "cell_type": "markdown",
   "metadata": {},
   "source": [
    "Additionally declare the variables involved:"
   ]
  },
  {
   "cell_type": "code",
   "execution_count": null,
   "metadata": {},
   "outputs": [],
   "source": [
    "(define var_decl (TypedVariable (Variable \"$what\") (Type \"ConceptNode\")))"
   ]
  },
  {
   "cell_type": "markdown",
   "metadata": {},
   "source": [
    "And finally, do backward chaining using `cog-bc`:"
   ]
  },
  {
   "cell_type": "code",
   "execution_count": null,
   "metadata": {},
   "outputs": [],
   "source": [
    "(cog-bc frog-rb target #:vardecl var_decl)"
   ]
  }
 ],
 "metadata": {
  "kernelspec": {
   "display_name": "Guile",
   "language": "scheme",
   "name": "guile"
  },
  "language_info": {
   "codemirror_mode": "scheme",
   "file_extension": ".scm",
   "mimetype": "application/x-scheme",
   "name": "guile",
   "pygments_lexer": "scheme",
   "version": "2.0.0"
  }
 },
 "nbformat": 4,
 "nbformat_minor": 2
}
