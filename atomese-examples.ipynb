{
 "cells": [
  {
   "cell_type": "markdown",
   "metadata": {},
   "source": [
    "## Basic atomese examples"
   ]
  },
  {
   "cell_type": "code",
   "execution_count": 1,
   "metadata": {},
   "outputs": [
    {
     "name": "stderr",
     "output_type": "stream",
     "text": [
      "/home/noskill/miniconda3/envs/pmvqa3/lib/python3.5/importlib/_bootstrap.py:222: RuntimeWarning: compiletime version 3.6 of module 'opencog.utilities' does not match runtime version 3.5\n",
      "  return f(*args, **kwds)\n",
      "/home/noskill/miniconda3/envs/pmvqa3/lib/python3.5/importlib/_bootstrap.py:222: RuntimeWarning: compiletime version 3.6 of module 'opencog.atomspace' does not match runtime version 3.5\n",
      "  return f(*args, **kwds)\n",
      "/home/noskill/miniconda3/envs/pmvqa3/lib/python3.5/importlib/_bootstrap.py:222: RuntimeWarning: compiletime version 3.6 of module 'opencog.type_constructors' does not match runtime version 3.5\n",
      "  return f(*args, **kwds)\n",
      "/home/noskill/miniconda3/envs/pmvqa3/lib/python3.5/importlib/_bootstrap.py:222: RuntimeWarning: compiletime version 3.6 of module 'opencog.bindlink' does not match runtime version 3.5\n",
      "  return f(*args, **kwds)\n"
     ]
    }
   ],
   "source": [
    "from opencog.utilities import initialize_opencog\n",
    "from opencog.atomspace import AtomSpace, types\n",
    "from opencog.type_constructors import *\n",
    "from opencog.bindlink import bindlink\n",
    "from opencog.bindlink import execute_atom\n"
   ]
  },
  {
   "cell_type": "markdown",
   "metadata": {},
   "source": [
    "Make a new atomspace  \n",
    "Atomspace is a hypergraph database  \n",
    "which can store nodes, links and associated values"
   ]
  },
  {
   "cell_type": "code",
   "execution_count": 2,
   "metadata": {},
   "outputs": [],
   "source": [
    "atomspace = AtomSpace()"
   ]
  },
  {
   "cell_type": "markdown",
   "metadata": {},
   "source": [
    "add concept node  \n",
    "Nodes destingueshed by type and name and are immutable"
   ]
  },
  {
   "cell_type": "code",
   "execution_count": 3,
   "metadata": {},
   "outputs": [
    {
     "data": {
      "text/plain": [
       "(ConceptNode \"small\") ; [8595782527577120975][1]"
      ]
     },
     "execution_count": 3,
     "metadata": {},
     "output_type": "execute_result"
    }
   ],
   "source": [
    "atomspace.add_node(types.ConceptNode, \"small\")"
   ]
  },
  {
   "cell_type": "markdown",
   "metadata": {},
   "source": [
    "set default atomspace to add atoms to"
   ]
  },
  {
   "cell_type": "code",
   "execution_count": 4,
   "metadata": {},
   "outputs": [],
   "source": [
    "initialize_opencog(atomspace)\n"
   ]
  },
  {
   "cell_type": "markdown",
   "metadata": {},
   "source": [
    "adding node one more time doesn't modify anything"
   ]
  },
  {
   "cell_type": "code",
   "execution_count": 5,
   "metadata": {},
   "outputs": [
    {
     "data": {
      "text/plain": [
       "(ConceptNode \"small\") ; [8595782527577120975][1]"
      ]
     },
     "execution_count": 5,
     "metadata": {},
     "output_type": "execute_result"
    }
   ],
   "source": [
    "ConceptNode(\"small\")"
   ]
  },
  {
   "cell_type": "markdown",
   "metadata": {},
   "source": [
    "every Atom(nodes or links) has incoming and outgoing sets"
   ]
  },
  {
   "cell_type": "code",
   "execution_count": 6,
   "metadata": {},
   "outputs": [
    {
     "name": "stdout",
     "output_type": "stream",
     "text": [
      "ConceptNode(\"size\").incoming:\n",
      "[]\n"
     ]
    }
   ],
   "source": [
    "print('ConceptNode(\"size\").incoming:')\n",
    "print(ConceptNode(\"size\").incoming)"
   ]
  },
  {
   "cell_type": "markdown",
   "metadata": {},
   "source": [
    "every Atom has default tv:"
   ]
  },
  {
   "cell_type": "code",
   "execution_count": 7,
   "metadata": {},
   "outputs": [
    {
     "name": "stdout",
     "output_type": "stream",
     "text": [
      "create link (InheritanceLink\n",
      "  (ConceptNode \"small\")\n",
      "  (ConceptNode \"size\")\n",
      ")\n",
      "\n",
      "\n",
      "(stv 1.000000 0.000000)\n"
     ]
    }
   ],
   "source": [
    "link = InheritanceLink(ConceptNode(\"small\"), ConceptNode(\"size\"))\n",
    "print(\"create link {0}\\n\".format(link))\n",
    "\n",
    "print(link.tv)"
   ]
  },
  {
   "cell_type": "markdown",
   "metadata": {},
   "source": [
    "setting new TruthValue"
   ]
  },
  {
   "cell_type": "code",
   "execution_count": 8,
   "metadata": {},
   "outputs": [],
   "source": [
    "link.tv = TruthValue(0.9, 0.9)"
   ]
  },
  {
   "cell_type": "markdown",
   "metadata": {},
   "source": [
    "Outgoing set of a link is set of Atoms it connects"
   ]
  },
  {
   "cell_type": "code",
   "execution_count": 9,
   "metadata": {},
   "outputs": [
    {
     "name": "stdout",
     "output_type": "stream",
     "text": [
      "(InheritanceLink (stv 0.900000 0.900000)\n",
      "  (ConceptNode \"small\")\n",
      "  (ConceptNode \"size\")\n",
      ")\n",
      "\n",
      "outgoing set of the link:\n",
      "[(ConceptNode \"small\") ; [8595782527577120975][1]\n",
      ", (ConceptNode \"size\") ; [7908756497414962438][1]\n",
      "]\n"
     ]
    }
   ],
   "source": [
    "print(link)\n",
    "print('outgoing set of the link:')\n",
    "print(link.out)"
   ]
  },
  {
   "cell_type": "markdown",
   "metadata": {},
   "source": [
    "Let's put the InheritanceLink into a ListLink  \n",
    "ListLink is just ordered List of atoms"
   ]
  },
  {
   "cell_type": "code",
   "execution_count": 10,
   "metadata": {},
   "outputs": [
    {
     "data": {
      "text/plain": [
       "(ListLink\n",
       "  (InheritanceLink (stv 0.900000 0.900000)\n",
       "    (ConceptNode \"small\") ; [8595782527577120975][1]\n",
       "    (ConceptNode \"size\") ; [7908756497414962438][1]\n",
       "  ) ; [16030665450786561781][1]\n",
       ") ; [14106166215360076800][1]"
      ]
     },
     "execution_count": 10,
     "metadata": {},
     "output_type": "execute_result"
    }
   ],
   "source": [
    "ListLink(link)"
   ]
  },
  {
   "cell_type": "code",
   "execution_count": 18,
   "metadata": {},
   "outputs": [
    {
     "name": "stdout",
     "output_type": "stream",
     "text": [
      "incoming set of the link:\n",
      "[(SetLink\n",
      "  (InheritanceLink (stv 0.900000 0.900000)\n",
      "    (ConceptNode \"small\") ; [8595782527577120975][1]\n",
      "    (ConceptNode \"size\") ; [7908756497414962438][1]\n",
      "  ) ; [16030665450786561781][1]\n",
      ") ; [14110089272848010777][1]\n",
      ", (ListLink\n",
      "  (InheritanceLink (stv 0.900000 0.900000)\n",
      "    (ConceptNode \"small\") ; [8595782527577120975][1]\n",
      "    (ConceptNode \"size\") ; [7908756497414962438][1]\n",
      "  ) ; [16030665450786561781][1]\n",
      ") ; [14106166215360076800][1]\n",
      "]\n"
     ]
    }
   ],
   "source": [
    "print('incoming set of the link:')\n",
    "print(link.incoming)"
   ]
  },
  {
   "cell_type": "markdown",
   "metadata": {},
   "source": [
    "While incoming set of Atom is set of links pointing to it"
   ]
  },
  {
   "cell_type": "code",
   "execution_count": 12,
   "metadata": {},
   "outputs": [
    {
     "name": "stdout",
     "output_type": "stream",
     "text": [
      "\n",
      " incoming set of ConceptNode(\"size\")\n",
      "[(InheritanceLink (stv 0.900000 0.900000)\n",
      "  (ConceptNode \"small\") ; [8595782527577120975][1]\n",
      "  (ConceptNode \"size\") ; [7908756497414962438][1]\n",
      ") ; [16030665450786561781][1]\n",
      "]\n"
     ]
    }
   ],
   "source": [
    "print('\\n incoming set of ConceptNode(\"size\")')\n",
    "print(ConceptNode(\"size\").incoming)"
   ]
  },
  {
   "cell_type": "markdown",
   "metadata": {},
   "source": [
    "Thus outgoing set of Nodes are empty"
   ]
  },
  {
   "cell_type": "code",
   "execution_count": 13,
   "metadata": {},
   "outputs": [
    {
     "data": {
      "text/plain": [
       "[]"
      ]
     },
     "execution_count": 13,
     "metadata": {},
     "output_type": "execute_result"
    }
   ],
   "source": [
    "ConceptNode(\"size\").out"
   ]
  },
  {
   "cell_type": "markdown",
   "metadata": {},
   "source": [
    "Let's take a look at BindLink  \n",
    "Semantics of BindLink is  \n",
    "\"do something if pattern matches and return the result\""
   ]
  },
  {
   "cell_type": "markdown",
   "metadata": {},
   "source": [
    "**Bindlink structure**\n",
    "1. VariableList - optional  \n",
    "2. Conditional part - pattern to match\n",
    "3. Rewrite term  "
   ]
  },
  {
   "cell_type": "markdown",
   "metadata": {},
   "source": [
    "Our condition will be InheritanceLink between  two variables  \n",
    "So pattern matcher will try to replace VariableNodes with other Atoms"
   ]
  },
  {
   "cell_type": "code",
   "execution_count": 14,
   "metadata": {},
   "outputs": [],
   "source": [
    "condition = InheritanceLink(VariableNode(\"X\"), VariableNode(\"Y\"))"
   ]
  },
  {
   "cell_type": "markdown",
   "metadata": {},
   "source": [
    "Let's return the same link which is matched in condition"
   ]
  },
  {
   "cell_type": "code",
   "execution_count": 15,
   "metadata": {},
   "outputs": [
    {
     "name": "stdout",
     "output_type": "stream",
     "text": [
      "(BindLink\n",
      "  (InheritanceLink\n",
      "    (VariableNode \"X\")\n",
      "    (VariableNode \"Y\")\n",
      "  )\n",
      "  (InheritanceLink\n",
      "    (VariableNode \"X\")\n",
      "    (VariableNode \"Y\")\n",
      "  )\n",
      ")\n",
      "\n"
     ]
    }
   ],
   "source": [
    "bindlink1 = BindLink(condition, condition)\n",
    "print(str(bindlink1))"
   ]
  },
  {
   "cell_type": "markdown",
   "metadata": {},
   "source": [
    "BindLink constructor doesn't execute anything  \n",
    "There is interface function for pattern matcher  \n",
    "\"bindlink\" which accepts atomspace to apply bindlink to  \n",
    "and bindlink itself"
   ]
  },
  {
   "cell_type": "code",
   "execution_count": 16,
   "metadata": {},
   "outputs": [
    {
     "name": "stdout",
     "output_type": "stream",
     "text": [
      "running bindlink\n",
      "result: \n",
      "(SetLink\n",
      "  (InheritanceLink (stv 0.900000 0.900000)\n",
      "    (ConceptNode \"small\")\n",
      "    (ConceptNode \"size\")\n",
      "  )\n",
      ")\n",
      "\n"
     ]
    }
   ],
   "source": [
    "print(\"running bindlink\")\n",
    "print(\"result: \\n{0}\".format(bindlink(atomspace, bindlink1)))"
   ]
  },
  {
   "cell_type": "markdown",
   "metadata": {},
   "source": [
    "______________________________________________________\n",
    "Another usefull type of link is ExecutionOutputLink  \n",
    "which used to run callback function on matched pattern  \n",
    "ExecutionOutputLink should return Atom"
   ]
  },
  {
   "cell_type": "markdown",
   "metadata": {},
   "source": [
    "\n",
    "**ExecutionOutputLink structure**\n",
    "1. GroundedSchemaNode\n",
    "2. ListLink of arguments"
   ]
  },
  {
   "cell_type": "markdown",
   "metadata": {},
   "source": [
    "let's define a callback function which returns a ConceptNode"
   ]
  },
  {
   "cell_type": "code",
   "execution_count": 20,
   "metadata": {},
   "outputs": [],
   "source": [
    "def add_node():\n",
    "    return ConceptNode(\"Test\")"
   ]
  },
  {
   "cell_type": "markdown",
   "metadata": {},
   "source": [
    "Now GroundedSchemaNode which accepts string of following format  \n",
    "\"&lt;language&gt;:&lt;function name&gt;\"\n",
    "\n",
    "\n",
    "where language can be any of \"lib\", \"py\", \"scm\"\n",
    "\n",
    "In case of lib atomspace will try to open library with dlopen  \n",
    "so any shared library may be used"
   ]
  },
  {
   "cell_type": "code",
   "execution_count": 21,
   "metadata": {},
   "outputs": [],
   "source": [
    "add_node_schema = GroundedSchemaNode(\"py: add_node\")"
   ]
  },
  {
   "cell_type": "markdown",
   "metadata": {},
   "source": [
    "Now make Execution output link"
   ]
  },
  {
   "cell_type": "code",
   "execution_count": 23,
   "metadata": {},
   "outputs": [],
   "source": [
    "exec1 = ExecutionOutputLink(\n",
    "         add_node_schema,\n",
    "         ListLink())\n"
   ]
  },
  {
   "cell_type": "markdown",
   "metadata": {},
   "source": [
    "ExecutionOutputLink may be used inside of bindlink or  \n",
    "it may be executed by execute_atom function"
   ]
  },
  {
   "cell_type": "code",
   "execution_count": 24,
   "metadata": {},
   "outputs": [
    {
     "name": "stdout",
     "output_type": "stream",
     "text": [
      "running ExecutionOutputLink\n",
      "(ConceptNode \"Test\")\n",
      "\n"
     ]
    }
   ],
   "source": [
    "print(\"running ExecutionOutputLink\")\n",
    "print(execute_atom(atomspace, exec1))"
   ]
  },
  {
   "cell_type": "markdown",
   "metadata": {},
   "source": [
    "ExecutionOutputLinks may be nested(actually any links may)"
   ]
  },
  {
   "cell_type": "code",
   "execution_count": 26,
   "metadata": {},
   "outputs": [
    {
     "name": "stdout",
     "output_type": "stream",
     "text": [
      "nested ExectutionOutputLinks\n",
      "(EvaluationLink (stv 0.100000 0.800000)\n",
      "  (PredicateNode \"ok\")\n",
      "  (ConceptNode \"Test\")\n",
      ")\n",
      "\n"
     ]
    }
   ],
   "source": [
    "print(\"nested ExectutionOutputLinks\")\n",
    "\n",
    "def add_link(node):\n",
    "    ev = EvaluationLink(\n",
    "           PredicateNode(\"ok\"),\n",
    "           node)\n",
    "    ev.tv = TruthValue(0.1, 0.8)\n",
    "    return ev\n",
    "\n",
    "exec2 = ExecutionOutputLink(\n",
    "           GroundedSchemaNode(\"py: add_link\"),\n",
    "           ListLink(\n",
    "             ExecutionOutputLink(\n",
    "                 GroundedSchemaNode(\"py: add_node\"),\n",
    "                 ListLink()))\n",
    "        )\n",
    "\n",
    "print(execute_atom(atomspace, exec2))\n",
    "\n"
   ]
  },
  {
   "cell_type": "code",
   "execution_count": null,
   "metadata": {},
   "outputs": [],
   "source": []
  },
  {
   "cell_type": "markdown",
   "metadata": {},
   "source": [
    "Exercise: print incoming set of (InheritanceLink (ConceptNode \"small\") (ConceptNode \"size\") )  \n",
    "once more time"
   ]
  },
  {
   "cell_type": "code",
   "execution_count": null,
   "metadata": {},
   "outputs": [],
   "source": []
  }
 ],
 "metadata": {
  "kernelspec": {
   "display_name": "Python 3",
   "language": "python",
   "name": "python3"
  },
  "language_info": {
   "codemirror_mode": {
    "name": "ipython",
    "version": 3
   },
   "file_extension": ".py",
   "mimetype": "text/x-python",
   "name": "python",
   "nbconvert_exporter": "python",
   "pygments_lexer": "ipython3",
   "version": "3.5.6"
  }
 },
 "nbformat": 4,
 "nbformat_minor": 2
}
