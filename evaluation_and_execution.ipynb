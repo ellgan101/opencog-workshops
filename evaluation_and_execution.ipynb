{
 "cells": [
  {
   "cell_type": "markdown",
   "metadata": {},
   "source": [
    "<h1>Atom Evaluation and Execution</h1>\n",
    "\n",
    "In OpenCog, there are evaluatable and executable Atoms.\n",
    "\n",
    "Some of them are <b>black-box</b> links (i.e. it's not clear what exactly it will just by reading the names of the Atoms) and some are <b>clear-box</b> links, e.g. `GreaterThanLink`, `EqualLink`, `AbsentLink` and `DeleteLink` etc.\n",
    "\n",
    "We will explore both of them in this notebook.\n",
    "\n",
    "<b>Note:</b> It's recommended to have some basic knowledge of atomese operations and pattern matching before running this notebook. See <b>atomese.ipynb</b> and <b>pattern_matching.ipynb</b> for details."
   ]
  },
  {
   "cell_type": "code",
   "execution_count": null,
   "metadata": {},
   "outputs": [],
   "source": [
    "import common\n",
    "from opencog.utilities import initialize_opencog\n",
    "from opencog.atomspace import AtomSpace, types\n",
    "from opencog.type_constructors import *\n",
    "from opencog.bindlink import execute_atom, evaluate_atom\n",
    "\n",
    "atomspace = AtomSpace()\n",
    "initialize_opencog(atomspace)"
   ]
  },
  {
   "cell_type": "markdown",
   "metadata": {},
   "source": [
    "An example of a <b>clear-box</b> link:"
   ]
  },
  {
   "cell_type": "code",
   "execution_count": null,
   "metadata": {},
   "outputs": [],
   "source": [
    "plus_link = PlusLink(NumberNode(\"1\"), NumberNode(\"2\"))\n",
    "print(plus_link)"
   ]
  },
  {
   "cell_type": "markdown",
   "metadata": {},
   "source": [
    "Use `execute_atom` to get the result:"
   ]
  },
  {
   "cell_type": "code",
   "execution_count": null,
   "metadata": {},
   "outputs": [],
   "source": [
    "result = execute_atom(atomspace, plus_link)\n",
    "print(result)"
   ]
  },
  {
   "cell_type": "markdown",
   "metadata": {},
   "source": [
    "They can also be nested together:"
   ]
  },
  {
   "cell_type": "code",
   "execution_count": null,
   "metadata": {},
   "outputs": [],
   "source": [
    "times_link = TimesLink(NumberNode(\"3\"), NumberNode(\"0.5\"))\n",
    "greater_than_link = GreaterThanLink(plus_link, times_link)\n",
    "print(greater_than_link)"
   ]
  },
  {
   "cell_type": "markdown",
   "metadata": {},
   "source": [
    "This time, in order to get the result, we will have to use `evaluate_atom` instead since we are checking if the first number is greater than the second one:"
   ]
  },
  {
   "cell_type": "code",
   "execution_count": null,
   "metadata": {},
   "outputs": [],
   "source": [
    "result = evaluate_atom(atomspace, greater_than_link)\n",
    "print(result)"
   ]
  },
  {
   "cell_type": "markdown",
   "metadata": {},
   "source": [
    "A <b>black-box</b> link is typically the one that will execute custom codes written in either <b>C++</b>, <b>Scheme</b>, or <b>Python</b>.\n",
    "\n",
    "Since it's hard to tell what exactly the code will do before actually running it, it's basically a black-box for that reason."
   ]
  },
  {
   "cell_type": "markdown",
   "metadata": {},
   "source": [
    "Let's try to create one by firstly defining our own function:"
   ]
  },
  {
   "cell_type": "code",
   "execution_count": null,
   "metadata": {},
   "outputs": [],
   "source": [
    "def check_tv(atom):\n",
    "  val = atom.tv.mean * atom.tv.confidence\n",
    "  if val > 0.5:\n",
    "    return TruthValue(1, 1)\n",
    "  else:\n",
    "    return TruthValue(0, 1)"
   ]
  },
  {
   "cell_type": "markdown",
   "metadata": {},
   "source": [
    "<b>Note:</b> It's expected to return a Truth Value for a evaluatable clause."
   ]
  },
  {
   "cell_type": "markdown",
   "metadata": {},
   "source": [
    "Now populate the AtomSpace with some knowledge:"
   ]
  },
  {
   "cell_type": "code",
   "execution_count": null,
   "metadata": {},
   "outputs": [],
   "source": [
    "inh_1 = InheritanceLink(ConceptNode(\"Bob\"), ConceptNode(\"cat\"))\n",
    "inh_2 = InheritanceLink(ConceptNode(\"Roy\"), ConceptNode(\"dog\"))\n",
    "\n",
    "inh_1.tv = TruthValue(0.8, 0.5)\n",
    "inh_2.tv = TruthValue(0.9, 0.7)\n",
    "\n",
    "print(\"{}{}\".format(inh_1, inh_2))"
   ]
  },
  {
   "cell_type": "markdown",
   "metadata": {},
   "source": [
    "To turn it into an evaluatable link, we need to use an `EvaluationLink` and a `GroundedPredicateNode`.\n",
    "\n",
    "The name of the `GroundedPredicateNode` that calls a custom function has to follow the following syntax:\n",
    "\n",
    "<b>[written-language]: [function-name]</b>"
   ]
  },
  {
   "cell_type": "code",
   "execution_count": null,
   "metadata": {},
   "outputs": [],
   "source": [
    "gpn = GroundedPredicateNode(\"py: check_tv\")\n",
    "print(gpn)"
   ]
  },
  {
   "cell_type": "markdown",
   "metadata": {},
   "source": [
    "Give it a quick try and check the result:"
   ]
  },
  {
   "cell_type": "code",
   "execution_count": null,
   "metadata": {},
   "outputs": [],
   "source": [
    "result = evaluate_atom(atomspace, EvaluationLink(gpn, ListLink(inh_1)))\n",
    "print(result)"
   ]
  },
  {
   "cell_type": "markdown",
   "metadata": {},
   "source": [
    "Similarity, to create an executable link, we can start with the custom function:"
   ]
  },
  {
   "cell_type": "code",
   "execution_count": null,
   "metadata": {},
   "outputs": [],
   "source": [
    "def change_tv(atom):\n",
    "  atom.tv = TruthValue(0.99, 0.99)\n",
    "  return atom"
   ]
  },
  {
   "cell_type": "markdown",
   "metadata": {},
   "source": [
    "<b>Note:</b> It's expected to return an Atom for a executable clause."
   ]
  },
  {
   "cell_type": "markdown",
   "metadata": {},
   "source": [
    "This time, we need to use an `ExecutionOutputLink` and a `GroundedSchemaNode` for creating an executable link.\n",
    "\n",
    "The `GroundedSchemaNode` should follow the same <b>[written-language]: [function-name]</b> syntax."
   ]
  },
  {
   "cell_type": "code",
   "execution_count": null,
   "metadata": {},
   "outputs": [],
   "source": [
    "gsn = GroundedSchemaNode(\"py: change_tv\")\n",
    "print(gsn)"
   ]
  },
  {
   "cell_type": "markdown",
   "metadata": {},
   "source": [
    "Execute it to see the result:"
   ]
  },
  {
   "cell_type": "code",
   "execution_count": null,
   "metadata": {},
   "outputs": [],
   "source": [
    "result = execute_atom(atomspace, ExecutionOutputLink(gsn, ListLink(inh_2)))\n",
    "print(result)"
   ]
  }
 ],
 "metadata": {
  "kernelspec": {
   "display_name": "Python 3",
   "language": "python",
   "name": "python3"
  },
  "language_info": {
   "codemirror_mode": {
    "name": "ipython",
    "version": 3
   },
   "file_extension": ".py",
   "mimetype": "text/x-python",
   "name": "python",
   "nbconvert_exporter": "python",
   "pygments_lexer": "ipython3",
   "version": "3.5.6"
  }
 },
 "nbformat": 4,
 "nbformat_minor": 2
}
